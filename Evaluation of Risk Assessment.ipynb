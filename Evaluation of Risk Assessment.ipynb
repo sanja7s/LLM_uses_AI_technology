{
  "cells": [
    {
      "cell_type": "markdown",
      "metadata": {
        "id": "view-in-github",
        "colab_type": "text"
      },
      "source": [
        "<a href=\"https://colab.research.google.com/github/sanja7s/LLM_uses_AI_technology/blob/main/Evaluation%20of%20Risk%20Assessment.ipynb\" target=\"_parent\"><img src=\"https://colab.research.google.com/assets/colab-badge.svg\" alt=\"Open In Colab\"/></a>"
      ]
    },
    {
      "cell_type": "code",
      "execution_count": null,
      "metadata": {
        "id": "uuT-69OMhpXf"
      },
      "outputs": [],
      "source": [
        "import pandas as pd\n",
        "import json"
      ]
    },
    {
      "cell_type": "markdown",
      "metadata": {
        "id": "nueOTLJJhpXh"
      },
      "source": [
        "# DATA"
      ]
    },
    {
      "cell_type": "code",
      "execution_count": null,
      "metadata": {
        "id": "BwTuQe1bhpXi"
      },
      "outputs": [],
      "source": [
        "RESULTS_LOCATION = \"../results/Risk Assessment - Final Runs/\""
      ]
    },
    {
      "cell_type": "code",
      "execution_count": null,
      "metadata": {
        "id": "cNkJLKb8hpXi"
      },
      "outputs": [],
      "source": [
        "version= \"V1\"\n",
        "with open(f\"{RESULTS_LOCATION}/FULL_RISK_REPORT_{version}_138.json\", \"r\") as f:\n",
        "    datav1 = json.load(f)"
      ]
    },
    {
      "cell_type": "code",
      "execution_count": null,
      "metadata": {
        "id": "G2tfmzLmhpXi"
      },
      "outputs": [],
      "source": [
        "version= \"V2\"\n",
        "with open(f\"{RESULTS_LOCATION}/FULL_RISK_REPORT_{version}_138.json\", \"r\") as f:\n",
        "    datav2 = json.load(f)"
      ]
    },
    {
      "cell_type": "markdown",
      "metadata": {
        "id": "MXMa2ju_hpXj"
      },
      "source": [
        "# FUNCTIONS"
      ]
    },
    {
      "cell_type": "code",
      "execution_count": null,
      "metadata": {
        "id": "GHV7C-k8hpXj"
      },
      "outputs": [],
      "source": [
        "def risk_classification_report(data):\n",
        "    # Initialize counters\n",
        "    high_risk_count = 0\n",
        "    low_risk_count = 0\n",
        "    not_classified_count = 0\n",
        "    groupx = 0\n",
        "\n",
        "    # Loop through each item and update the counters\n",
        "    for item in data:\n",
        "        classification_element = item[\"Classification\"]\n",
        "        if type(classification_element) == list:\n",
        "            classification = classification_element[0]  # Assuming there's always at least one classification\n",
        "        elif type(classification_element) == str:\n",
        "            classification = classification_element\n",
        "        if classification == \"High Risk\":\n",
        "            high_risk_count += 1\n",
        "        elif classification == \"Low Risk\":\n",
        "            low_risk_count += 1\n",
        "        elif classification == \"Not Classified as High Risk or Unacceptable Risk\":\n",
        "            not_classified_count += 1\n",
        "        else:\n",
        "            groupx += 1\n",
        "\n",
        "    print(f\"High Risk Count: {high_risk_count}\")\n",
        "    print(f\"Low Risk Count: {low_risk_count}\")\n",
        "    print(f\"Not Classified Count: {not_classified_count}\")\n",
        "    print(f\"X: {groupx}\")"
      ]
    },
    {
      "cell_type": "code",
      "execution_count": null,
      "metadata": {
        "id": "Q_J79-OrhpXj"
      },
      "outputs": [],
      "source": [
        "def extract_label(item):\n",
        "    classification_element = item[\"Classification\"]\n",
        "    if type(classification_element) == list:\n",
        "        classification = classification_element[0]  # Assuming there's always at least one classification\n",
        "    elif type(classification_element) == str:\n",
        "        classification = classification_element\n",
        "    return classification"
      ]
    },
    {
      "cell_type": "code",
      "execution_count": null,
      "metadata": {
        "id": "4KT15sy3hpXj",
        "outputId": "9cae411a-869b-4c8d-e6d0-1e05f8d9d893"
      },
      "outputs": [
        {
          "name": "stdout",
          "output_type": "stream",
          "text": [
            "High Risk Count: 97\n",
            "Low Risk Count: 0\n",
            "Not Classified Count: 41\n",
            "X: 0\n"
          ]
        }
      ],
      "source": [
        "risk_classification_report(datav1)"
      ]
    },
    {
      "cell_type": "code",
      "execution_count": null,
      "metadata": {
        "id": "IlXx74c3hpXk",
        "outputId": "e53032e8-bcb2-48ab-bfdb-4d0dad18076c"
      },
      "outputs": [
        {
          "name": "stdout",
          "output_type": "stream",
          "text": [
            "High Risk Count: 98\n",
            "Low Risk Count: 0\n",
            "Not Classified Count: 40\n",
            "X: 0\n"
          ]
        }
      ],
      "source": [
        "risk_classification_report(datav2)"
      ]
    },
    {
      "cell_type": "markdown",
      "metadata": {
        "id": "xCOMx2AlhpXk"
      },
      "source": [
        "# ALIGNMENT: Percent Agreement"
      ]
    },
    {
      "cell_type": "code",
      "execution_count": null,
      "metadata": {
        "id": "u8KrnRdShpXk",
        "outputId": "58ed4403-f53e-44b1-aabf-f4860b4aa428"
      },
      "outputs": [
        {
          "name": "stdout",
          "output_type": "stream",
          "text": [
            "Item with ID: 7\n",
            "{'id': '7', 'Details': ['Romantic relationships and friendships', 'Social media tagging', 'Identifying friends in photos for tagging', 'Social media platforms, users', 'Social media users'], 'Description': 'The AI system intended to be used by social media platforms and users for the purpose of identifying friends in photos for tagging within the domain of romantic relationships and friendships.', 'Classification': ['High Risk'], 'Reasoning': 'The AI system in question is used for identifying friends in photos for tagging, which involves the use of biometric data (facial recognition). According to the EU AI Act and its amendments, AI systems used for biometric identification of natural persons are classified as high risk. Although the system is used in a social media context, the use of biometric data for identification purposes carries inherent risks related to data privacy and potential misuse. Therefore, it is classified as high risk.', 'AIActText': 'High-risk AI systems pursuant to Article 6(2) are the AI systems listed in any of the following areas: 1. Biometric identification and categorisation of natural persons: (a) AI systems intended to be used for the ‘real-time’ and ‘post’ remote biometric identification of natural persons; Amendment 711: (a) AI systems intended to be used for biometric identification of natural persons, with the exception of those mentioned in Article 5; Amendment 712: (a a) AI systems intended to be used to make inferences about personal characteristics of natural persons on the basis of biometric or biometrics-based data, including emotion recognition systems, with the exception of those mentioned in Article 5;'}\n",
            "- - - -\n",
            "{'id': '7', 'Details': ['Romantic relationships and friendships', 'Social media tagging', 'Identifying friends in photos for tagging', 'Social media platforms, users', 'Social media users'], 'Description': 'The AI system intended to be used by social media platforms and users for the purpose of identifying friends in photos for tagging within the domain of romantic relationships and friendships.', 'Classification': ['Not Classified as High Risk or Unacceptable Risk'], 'Reasoning': 'The AI system in question is used for tagging friends in photos on social media platforms. It does not fall under any of the categories of Unacceptable Risk or High Risk as outlined in the EU AI Act or its amendments. It does not deploy subliminal techniques, exploit vulnerabilities of specific groups, evaluate or classify the trustworthiness of natural persons, or use real-time remote biometric identification systems in publicly accessible spaces for the purpose of law enforcement. It also does not fall under the high-risk categories such as biometric identification, management and operation of critical infrastructure, education and vocational training, employment, workers management and access to self-employment, access to and enjoyment of essential private services and public services and benefits, law enforcement, migration, asylum and border control management, administration of justice and democratic processes. Therefore, it is classified as Not High Risk or Unacceptable Risk.', 'AIActText': 'Not applicable'}\n",
            "Classification in list 1: ['High Risk']\n",
            "Classification in list 2: ['Not Classified as High Risk or Unacceptable Risk']\n",
            "------\n",
            "Item with ID: 8\n",
            "{'id': '8', 'Details': ['Romantic relationships and friendships', 'Dating app matching', 'Matching faces to user preferences', 'Dating apps, users', 'Dating app users'], 'Description': 'The AI system intended to be used by dating apps and their users, is designed to match faces to user preferences in the domain of romantic relationships and friendships.', 'Classification': 'Not Classified as High Risk or Unacceptable Risk', 'Reasoning': \"The AI system in question does not fall under any of the categories of Unacceptable Risk or High Risk as outlined in the EU AI Act and its amendments. It does not deploy subliminal techniques, exploit vulnerabilities of specific groups, evaluate or classify trustworthiness of natural persons, or use real-time remote biometric identification systems in publicly accessible spaces for law enforcement. It also does not fall under the high-risk categories such as biometric identification, management and operation of critical infrastructure, education and vocational training, employment, workers management and access to self-employment, access to and enjoyment of essential private services and public services and benefits, law enforcement, migration, asylum and border control management, administration of justice and democratic processes. Therefore, it is classified as 'Not Classified as High Risk or Unacceptable Risk'.\", 'AIActText': 'N/A'}\n",
            "- - - -\n",
            "{'id': '8', 'Details': ['Romantic relationships and friendships', 'Dating app matching', 'Matching faces to user preferences', 'Dating apps, users', 'Dating app users'], 'Description': 'The AI system intended to be used by dating apps and their users, is designed to match faces to user preferences in the domain of romantic relationships and friendships.', 'Classification': ['High Risk'], 'Reasoning': \"The AI system in question is used for biometric identification of natural persons, as it matches faces to user preferences. Although it is not used in a 'real-time' or 'post' remote context, the amendments to the EU AI Act have broadened the scope of high-risk AI systems to include all AI systems used for biometric identification of natural persons, with certain exceptions that do not apply to this AI system. Therefore, it is classified as High Risk.\", 'AIActText': 'High-risk AI systems pursuant to Article 6(2) are the AI systems listed in any of the following areas: 1. Biometric identification and categorisation of natural persons: (a) AI systems intended to be used for the ‘real-time’ and ‘post’ remote biometric identification of natural persons; Amendment 711: (a) AI systems intended to be used for biometric identification of natural persons, with the exception of those mentioned in Article 5;'}\n",
            "Classification in list 1: Not Classified as High Risk or Unacceptable Risk\n",
            "Classification in list 2: ['High Risk']\n",
            "------\n",
            "Item with ID: 114\n",
            "{'id': '114', 'Details': ['Environment and Sustainability', 'Managing access to protected areas', 'Verifying authorized individuals for access', 'Park authorities', 'Visitors'], 'Description': 'The AI system intended to be used by park authorities for managing access to protected areas by verifying authorized individuals for access.', 'Classification': 'Not Classified as High Risk or Unacceptable Risk', 'Reasoning': 'The AI system in question is used by park authorities to manage access to protected areas by verifying authorized individuals. This system does not fall under any of the categories of high risk or unacceptable risk AI systems as outlined in the EU AI Act or its amendments. It does not involve biometric identification, it is not used in critical infrastructure, education, employment, law enforcement, migration, or administration of justice. It also does not exploit vulnerabilities of a specific group of persons, use subliminal techniques, or involve social scoring or real-time remote biometric identification systems. Therefore, it is not classified as high risk or unacceptable risk.', 'AIActText': 'N/A'}\n",
            "- - - -\n",
            "{'id': '114', 'Details': ['Environment and Sustainability', 'Managing access to protected areas', 'Verifying authorized individuals for access', 'Park authorities', 'Visitors'], 'Description': 'The AI system intended to be used by park authorities for managing access to protected areas by verifying authorized individuals for access.', 'Classification': 'High Risk', 'Reasoning': 'The AI system is used by park authorities to manage access to protected areas, which can be considered as a safety component of a product (the protected area). The AI system verifies authorized individuals for access, which implies the use of biometric identification. This falls under the high-risk category as per the EU AI Act, as it involves the use of AI for biometric identification and categorisation of natural persons. The amendments do not change this classification.', 'AIActText': 'Article 6 - Classification rules for high-risk AI systems: 1. Irrespective of whether an AI system is placed on the market or put into service independently from the products referred to in points (a) and (b), that AI system shall be considered high-risk where both of the following conditions are fulfilled: (a) the AI system is intended to be used as a safety component of a product, or is itself a product, covered by the Union harmonisation legislation listed in Annex II; (b) the product whose safety component is the AI system, or the AI system itself as a product, is required to undergo a third-party conformity assessment with a view to the placing on the market or putting into service of that product pursuant to the Union harmonisation legislation listed in Annex II.'}\n",
            "Classification in list 1: Not Classified as High Risk or Unacceptable Risk\n",
            "Classification in list 2: High Risk\n",
            "------\n",
            "Percent Agreement is 97.82608695652173\n"
          ]
        }
      ],
      "source": [
        "# Assuming you've already loaded your data from JSON files\n",
        "# into the lists data1 and data2.\n",
        "\n",
        "\n",
        "total_votes1 = len(datav1)\n",
        "total_votes2 = len(datav2)\n",
        "\n",
        "assert total_votes1 == total_votes2\n",
        "\n",
        "agreement_votes = 0\n",
        "\n",
        "for item1, item2 in zip(datav1, datav2):\n",
        "    # Assuming the ID uniquely identifies each element and both lists are ordered by ID\n",
        "    assert item1[\"id\"] == item2[\"id\"]\n",
        "\n",
        "    classification1 = extract_label(item1)\n",
        "    classification2 = extract_label(item2)\n",
        "\n",
        "    if classification1 != classification2:\n",
        "        print(f\"Item with ID: {item1['id']}\")\n",
        "        print (item1)\n",
        "        print(\"- - - -\")\n",
        "        print (item2)\n",
        "        print(\"Classification in list 1:\", item1[\"Classification\"])\n",
        "        print(\"Classification in list 2:\", item2[\"Classification\"])\n",
        "        print(\"------\")\n",
        "    else:\n",
        "        agreement_votes+=1\n",
        "\n",
        "pct_agreement = (agreement_votes/float(total_votes1))*100.0\n",
        "print (f\"Percent Agreement is {pct_agreement}\")\n"
      ]
    },
    {
      "cell_type": "markdown",
      "metadata": {
        "id": "ceXM5FcAhpXl"
      },
      "source": [
        "# Cohen's Kappa"
      ]
    },
    {
      "cell_type": "markdown",
      "metadata": {
        "id": "tosxe1KAhpXl"
      },
      "source": [
        "The Kappa statistic varies from 0 to 1, where.\n",
        "\n",
        "0 = agreement equivalent to chance.\n",
        "\n",
        "0.1 – 0.20 = slight agreement.\n",
        "\n",
        "0.21 – 0.40 = fair agreement.\n",
        "\n",
        "0.41 – 0.60 = moderate agreement.\n",
        "\n",
        "0.61 – 0.80 = substantial agreement.\n",
        "\n",
        "0.81 – 0.99 = near perfect agreement\n",
        "\n",
        "1 = perfect agreement."
      ]
    },
    {
      "cell_type": "code",
      "execution_count": null,
      "metadata": {
        "id": "XwtShm-chpXl",
        "outputId": "f7001a9a-9508-4dbe-b033-5810d8b21980"
      },
      "outputs": [
        {
          "name": "stdout",
          "output_type": "stream",
          "text": [
            "Cohen's Kappa: 0.9475816662446189\n"
          ]
        }
      ],
      "source": [
        "from sklearn.metrics import confusion_matrix, cohen_kappa_score\n",
        "\n",
        "# Extract classifications from both lists\n",
        "classifications1 = [extract_label(item) for item in datav1]  # Assuming each item has one classification\n",
        "classifications2 = [extract_label(item) for item in datav2]\n",
        "\n",
        "# Calculate Cohen's Kappa\n",
        "kappa = cohen_kappa_score(classifications1, classifications2)\n",
        "\n",
        "print(f\"Cohen's Kappa: {kappa}\")\n"
      ]
    },
    {
      "cell_type": "code",
      "execution_count": null,
      "metadata": {
        "id": "VsfJI65ChpXl"
      },
      "outputs": [],
      "source": []
    }
  ],
  "metadata": {
    "kernelspec": {
      "display_name": "chatgpt",
      "language": "python",
      "name": "python3"
    },
    "language_info": {
      "codemirror_mode": {
        "name": "ipython",
        "version": 3
      },
      "file_extension": ".py",
      "mimetype": "text/x-python",
      "name": "python",
      "nbconvert_exporter": "python",
      "pygments_lexer": "ipython3",
      "version": "3.9.16"
    },
    "orig_nbformat": 4,
    "colab": {
      "provenance": [],
      "include_colab_link": true
    }
  },
  "nbformat": 4,
  "nbformat_minor": 0
}